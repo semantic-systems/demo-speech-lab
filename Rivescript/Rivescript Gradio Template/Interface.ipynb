{
 "cells": [
  {
   "cell_type": "code",
   "execution_count": 1,
   "id": "555aba21-1178-466e-80c6-673cffd8b8dc",
   "metadata": {},
   "outputs": [],
   "source": [
    "# Import RiveScript\n",
    "import rivescript as rv\n",
    "rv = rv.RiveScript()"
   ]
  },
  {
   "cell_type": "code",
   "execution_count": 2,
   "id": "742bbcaf-8590-4c87-abea-6bf718751413",
   "metadata": {},
   "outputs": [],
   "source": [
    "# Print all Methods/Variables of an object (for debug purposes)\n",
    "def get_fields(obj):\n",
    "    fields = [method_name for method_name in dir(obj) if callable(getattr(obj, method_name))]\n",
    "    print(fields)"
   ]
  },
  {
   "cell_type": "code",
   "execution_count": 3,
   "id": "5d3b779d-e075-4aa6-8254-90dc60552b2f",
   "metadata": {},
   "outputs": [],
   "source": [
    "# Load .rive files and sort replies\n",
    "rv.load_directory(\".\", \".rive\")\n",
    "rv.sort_replies()"
   ]
  },
  {
   "cell_type": "code",
   "execution_count": 4,
   "id": "b0de5c8e-a605-4f72-bc31-bdde521d3020",
   "metadata": {},
   "outputs": [
    {
     "data": {
      "text/plain": [
       "'Hello, human!'"
      ]
     },
     "execution_count": 4,
     "metadata": {},
     "output_type": "execute_result"
    }
   ],
   "source": [
    "# Test reply\n",
    "rv.reply(\"Tony\", \"hello bot\")"
   ]
  },
  {
   "cell_type": "markdown",
   "id": "53224ff4-3f99-4ebd-b8cb-df68535b0758",
   "metadata": {},
   "source": [
    "------------------------------------------------"
   ]
  },
  {
   "cell_type": "code",
   "execution_count": 6,
   "id": "83a6ab28-0c57-43aa-97f3-b8d92bf44866",
   "metadata": {},
   "outputs": [
    {
     "name": "stdout",
     "output_type": "stream",
     "text": [
      "Running on local URL:  http://127.0.0.1:7861\n",
      "\n",
      "To create a public link, set `share=True` in `launch()`.\n"
     ]
    },
    {
     "data": {
      "text/html": [
       "<div><iframe src=\"http://127.0.0.1:7861/\" width=\"900\" height=\"500\" allow=\"autoplay; camera; microphone;\" frameborder=\"0\" allowfullscreen></iframe></div>"
      ],
      "text/plain": [
       "<IPython.core.display.HTML object>"
      ]
     },
     "metadata": {},
     "output_type": "display_data"
    },
    {
     "data": {
      "text/plain": [
       "(<gradio.routes.App at 0x1b7c7a9a8b0>, 'http://127.0.0.1:7861/', None)"
      ]
     },
     "execution_count": 6,
     "metadata": {},
     "output_type": "execute_result"
    }
   ],
   "source": [
    "# Set up gradio\n",
    "import gradio as gr\n",
    "\n",
    "chat_history = []\n",
    "\n",
    "# get reply and store message and reply in chat_history\n",
    "def rive_reply(message):\n",
    "    \n",
    "    # get responste from rivescript brain\n",
    "    response = rv.reply(\"Tony\", message)\n",
    "    \n",
    "    # append message to array\n",
    "    chat_history.append((message, response))\n",
    "    \n",
    "    return chat_history\n",
    "\n",
    "\n",
    "with gr.Blocks() as demo:\n",
    "    \n",
    "    with gr.Box():\n",
    "        \n",
    "        with gr.Column():\n",
    "        \n",
    "            chatbot = gr.Chatbot()\n",
    "            chatbot.color_map = (('lime', 'gray'))\n",
    "\n",
    "            # input_field = gr.Interface(\n",
    "            #     fn=rive_reply,\n",
    "            #     inputs=[\"text\", \"state\"],\n",
    "            #     outputs=[chatbot, \"state\"],\n",
    "            #     allow_flagging=\"never\",\n",
    "            # )\n",
    "\n",
    "            input_field = gr.Textbox(label=\"Input\")\n",
    "            \n",
    "            button1 = gr.Button(value=\"Send\")\n",
    "\n",
    "            button1.click(\n",
    "                fn=rive_reply,\n",
    "                inputs=input_field,\n",
    "                outputs=chatbot,\n",
    "            )\n",
    "\n",
    "demo.launch()"
   ]
  },
  {
   "cell_type": "code",
   "execution_count": null,
   "id": "8e556a93-8047-44b9-a661-410a0b806378",
   "metadata": {},
   "outputs": [],
   "source": []
  }
 ],
 "metadata": {
  "kernelspec": {
   "display_name": "Python 3 (ipykernel)",
   "language": "python",
   "name": "python3"
  },
  "language_info": {
   "codemirror_mode": {
    "name": "ipython",
    "version": 3
   },
   "file_extension": ".py",
   "mimetype": "text/x-python",
   "name": "python",
   "nbconvert_exporter": "python",
   "pygments_lexer": "ipython3",
   "version": "3.9.5"
  }
 },
 "nbformat": 4,
 "nbformat_minor": 5
}
